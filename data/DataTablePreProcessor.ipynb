{
 "cells": [
  {
   "cell_type": "code",
   "execution_count": 1,
   "metadata": {},
   "outputs": [
    {
     "name": "stdout",
     "output_type": "stream",
     "text": [
      "positions: ['CB', 'DL', 'ED', 'LB', 'OL', 'QB', 'RB', 'S', 'TE', 'WR']\n"
     ]
    }
   ],
   "source": [
    "import os\n",
    "import pandas as pd\n",
    "import numpy as np\n",
    "\n",
    "#os.listdir('CB')\n",
    "#os.listdir()\n",
    "\n",
    "positions = [item for item in sorted(os.listdir()) if len(item)<3]\n",
    "print('positions:', positions)\n",
    "\n",
    "def dataframecreater(position):\n",
    "\n",
    "    df_pos = None\n",
    "    for csv in os.listdir(position):\n",
    "        df = pd.read_csv(position+'/'+csv)\n",
    "        df[df == '-'] = np.nan\n",
    "    \n",
    "        drop_list = []\n",
    "        for col in df.columns:\n",
    "            df[col] = pd.to_numeric(df[col], errors='ignore')\n",
    "            #drop every column where every value is NA (bzw. statistic is missing in that year)\n",
    "            if df[col].notna().sum() == 0:\n",
    "                drop_list.append(col)\n",
    "    \n",
    "        df.drop(drop_list, axis = 1, inplace=True) # axis=1 since we want to drop columns\n",
    "    \n",
    "        if df_pos is None:\n",
    "            df_pos = df\n",
    "        else:\n",
    "            cols_to_use = df.columns.difference(df_pos.columns[1:])\n",
    "            df_pos = df_pos.merge(df[cols_to_use], how='outer', on='Full Name')\n",
    "    \n",
    "    return df_pos\n",
    "\n",
    "\n",
    "\n",
    "df_positions = {}\n",
    "for pos in positions:\n",
    "    df_positions[pos] = dataframecreater(pos)"
   ]
  },
  {
   "cell_type": "code",
   "execution_count": null,
   "metadata": {},
   "outputs": [],
   "source": []
  },
  {
   "cell_type": "code",
   "execution_count": 11,
   "metadata": {},
   "outputs": [],
   "source": [
    "for pos in positions:\n",
    "    df_positions[pos].to_csv(pos+'_all.csv', sep=';', decimal=',')"
   ]
  }
 ],
 "metadata": {
  "kernelspec": {
   "display_name": "Python 3",
   "language": "python",
   "name": "python3"
  },
  "language_info": {
   "codemirror_mode": {
    "name": "ipython",
    "version": 3
   },
   "file_extension": ".py",
   "mimetype": "text/x-python",
   "name": "python",
   "nbconvert_exporter": "python",
   "pygments_lexer": "ipython3",
   "version": "3.8.8"
  }
 },
 "nbformat": 4,
 "nbformat_minor": 4
}
