{
 "cells": [
  {
   "cell_type": "code",
   "execution_count": 7,
   "metadata": {},
   "outputs": [],
   "source": [
    "#import libraries\n",
    "from selenium import webdriver\n",
    "from selenium.webdriver.chrome.options import Options\n",
    "#from selenium.webdriver.support.ui import Select\n",
    "from selenium.webdriver.common.by import By\n",
    "from selenium.webdriver.support.ui import WebDriverWait\n",
    "from selenium.webdriver.support import expected_conditions as EC\n",
    "import time\n",
    "#import subprocess\n",
    "import pandas as pd\n",
    "import pickle\n",
    "import re"
   ]
  },
  {
   "cell_type": "code",
   "execution_count": 105,
   "metadata": {},
   "outputs": [],
   "source": [
    "sport = 'Football'\n",
    "live = True\n",
    "betX = {'3-Way': 1, 'Over/Under': 2, 'Both teams to score?': 10}"
   ]
  },
  {
   "cell_type": "code",
   "execution_count": 107,
   "metadata": {},
   "outputs": [
    {
     "name": "stdout",
     "output_type": "stream",
     "text": [
      "1\n",
      "2\n",
      "10\n"
     ]
    }
   ],
   "source": [
    "for i in betX: \n",
    "    print(betX[i])"
   ]
  },
  {
   "cell_type": "code",
   "execution_count": 108,
   "metadata": {},
   "outputs": [],
   "source": [
    "#changing chromedriver default options\n",
    "options = Options()\n",
    "options.headless = False\n",
    "options.add_argument('window-size=1920x1080') \n",
    "\n",
    "if live:\n",
    "    web = 'https://sports.bwin.com/en/sports/live/football-4?fallback=false'\n",
    "else:\n",
    "    web = 'https://sports.bwin.com/en/sports/football-4/betting'\n",
    "    \n",
    "#execute chromedriver with edited options\n",
    "driver = webdriver.Chrome('./chromedriver', options=options)\n",
    "driver.get(web)\n",
    "#driver.maximize_window()"
   ]
  },
  {
   "cell_type": "code",
   "execution_count": 109,
   "metadata": {},
   "outputs": [],
   "source": [
    "# try to close ad\n",
    "try:\n",
    "    accept = WebDriverWait(driver, 10).until(EC.element_to_be_clickable((By.XPATH, '//*[@id=\"messages-with-overlay\"]/div/vn-content-message/div/span')))\n",
    "    accept.click()\n",
    "except:\n",
    "    pass"
   ]
  },
  {
   "cell_type": "code",
   "execution_count": 110,
   "metadata": {},
   "outputs": [],
   "source": [
    "#Initialize your storage\n",
    "teams = []\n",
    "odds_events = []\n",
    "#select values from dropdown\n",
    "bet_odds = []"
   ]
  },
  {
   "cell_type": "code",
   "execution_count": 86,
   "metadata": {},
   "outputs": [],
   "source": [
    "# weitere mögliche Dropdowns:\n",
    "# - Total 1st Half Over/Under\n",
    "# - Total 2nd Half Over/Under"
   ]
  },
  {
   "cell_type": "code",
   "execution_count": 119,
   "metadata": {},
   "outputs": [],
   "source": [
    "# if headless = False -> kann nur 2 Dropdowns machen\n",
    "\n",
    "for i, bet_name in enumerate(betX):\n",
    "    bet_odds.append([]) # initialize list analogously to x12=[], over_under = [], bttw = []\n",
    "    xpath = '//*[@id=\"main-view\"]/ms-live/ms-live-event-list/div/ms-grid/ms-grid-header/div/ms-group-selector['+str(i+1)+']/ms-dropdown/div/span[2]'\n",
    "    WebDriverWait(driver, 5).until(EC.presence_of_element_located((By.XPATH, xpath))).click() \n",
    "    bet_num = str(betX[bet_name])\n",
    "    xpath = '//*[@id=\"main-view\"]/ms-live/ms-live-event-list/div/ms-grid/ms-grid-header/div/ms-group-selector['+str(i+1)+']/ms-dropdown/div[2]/div[' + bet_num + ']'\n",
    "    #xpath = '//*[@id=\"main-view\"]/ms-live/ms-live-event-list/div/ms-grid/ms-grid-header/div/ms-group-selector['+str(i+1)+']/ms-dropdown/div[2]/div[1]'\n",
    "    WebDriverWait(driver, 10).until(EC.element_to_be_clickable((By.XPATH, xpath))).click()"
   ]
  },
  {
   "cell_type": "code",
   "execution_count": 101,
   "metadata": {},
   "outputs": [],
   "source": [
    "box = driver.find_element_by_xpath('//ms-grid[contains(@sortingtracking,\"Live\")]') #livebox\n",
    "rows = WebDriverWait(box, 5).until(EC.presence_of_all_elements_located((By.CLASS_NAME, 'grid-event')))\n",
    "len(rows)"
   ]
  },
  {
   "cell_type": "code",
   "execution_count": 123,
   "metadata": {},
   "outputs": [],
   "source": []
  },
  {
   "cell_type": "code",
   "execution_count": 120,
   "metadata": {},
   "outputs": [],
   "source": []
  },
  {
   "cell_type": "code",
   "execution_count": null,
   "metadata": {},
   "outputs": [],
   "source": []
  },
  {
   "cell_type": "code",
   "execution_count": null,
   "metadata": {},
   "outputs": [],
   "source": []
  },
  {
   "cell_type": "code",
   "execution_count": null,
   "metadata": {},
   "outputs": [],
   "source": [
    "\n",
    "\n",
    "      \n",
    "    #Looking for live events 'Program_LIVE'\n",
    "    box = driver.find_element_by_xpath('//div[contains(@testid, \"Program_LIVE\")]')\n",
    "    #Looking for 'sports titles'\n",
    "    sport_title = box.find_elements_by_class_name('SportTitle-styles-sport')\n",
    "    \n",
    "    for sport in sport_title:\n",
    "        # selecting only football\n",
    "        if sport.text == sport:\n",
    "            parent = sport.find_element_by_xpath('./..') #immediate parent node\n",
    "            grandparent = parent.find_element_by_xpath('./..') #grandparent node = the whole 'football' container\n",
    "        \n",
    "            #1 #empty groups\n",
    "            try:\n",
    "                empty_groups = grandparent.find_elements_by_class_name('EventOddGroup-styles-empty-group')\n",
    "                empty_events = [empty_group.find_element_by_xpath('./..') for empty_group in empty_groups]####\n",
    "            except:\n",
    "                pass\n",
    "        \n",
    "            #Single row event\n",
    "            single_row_events = grandparent.find_elements_by_class_name('EventRow-styles-event-row')\n",
    "            #2 #remove empty events from single_row_events\n",
    "            try:\n",
    "                #empty_events\n",
    "                single_row_events = [single_row_event for single_row_event in single_row_events if single_row_event not in empty_events]\n",
    "            except:\n",
    "                pass\n",
    "        \n",
    "            #3 #Getting Data\n",
    "            for match in single_row_events:\n",
    "                odds_event = match.find_elements_by_class_name('EventOddGroup-styles-odd-groups')\n",
    "                odds_events.append(odds_event)\n",
    "                # teams\n",
    "                for team in match.find_elements_by_class_name('EventTeams-styles-titles'):\n",
    "                    teams.append(team.text)\n",
    "            for odds_event in odds_events:\n",
    "                for n, box in enumerate(odds_event):\n",
    "                    rows = box.find_elements_by_xpath('.//*')\n",
    "                    if n == 0:\n",
    "                        x12.append(rows[0].text)\n",
    "                    # over/under + goal line\n",
    "                    if n == 1:\n",
    "                        parent = box.find_element_by_xpath('./..')\n",
    "                        goals = parent.find_element_by_class_name('EventOddGroup-styles-fixed-param-text').text\n",
    "                        over_under.append(goals+'\\n'+rows[0].text)\n",
    "                    # both teams to score\n",
    "                    if n == 2:\n",
    "                        btts.append(rows[0].text)\n",
    "\n",
    "    driver.quit()\n",
    "    \n",
    "    # make Readable\n",
    "    pd.set_option('display.max_rows', 500)\n",
    "    pd.set_option('display.max_columns', 500)\n",
    "    pd.set_option('display.width', 1000)\n",
    "\n",
    "    #Storing lists within dictionary\n",
    "    dict_gambling = dict(zip(betX, bet_odds)) \n",
    "    dict_gambling['Teams'] = teams\n",
    "    #Presenting data in dataframe\n",
    "    df_bookie = pd.DataFrame.from_dict(dict_gambling)\n",
    "    #clean leading and trailing whitespaces\n",
    "    df_bookie = df_tipico.applymap(lambda x: x.strip() if isinstance(x, str) else x) #14.0\\n or 14 or \\n14.0\n",
    "    \n",
    "    #Save data with Pickle\n",
    "    output = open('ScrappedData/df_bwin', 'wb') #don't forget to change name_of_file\n",
    "    pickle.dump(df_bookie, output)\n",
    "    output.close()\n",
    "    \n",
    "    return df_bookie"
   ]
  }
 ],
 "metadata": {
  "kernelspec": {
   "display_name": "Python 3",
   "language": "python",
   "name": "python3"
  },
  "language_info": {
   "codemirror_mode": {
    "name": "ipython",
    "version": 3
   },
   "file_extension": ".py",
   "mimetype": "text/x-python",
   "name": "python",
   "nbconvert_exporter": "python",
   "pygments_lexer": "ipython3",
   "version": "3.7.4"
  }
 },
 "nbformat": 4,
 "nbformat_minor": 2
}
