{
 "cells": [
  {
   "cell_type": "markdown",
   "metadata": {},
   "source": [
    "\n",
    "## Live Betting-Webscrapping\n",
    "\n",
    "Medium-Link: https://medium.datadriveninvestor.com/make-money-with-python-the-sports-arbitrage-project-3b09d81a0098\n"
   ]
  },
  {
   "cell_type": "markdown",
   "metadata": {},
   "source": [
    "**Importing libraries**\n",
    "\n",
    "We need to import Optionsto change chromedriver’s default options; Select for selecting within dropdown menus andBy, WebDriverWait, EC,timeto wait for a certain condition to occur."
   ]
  },
  {
   "cell_type": "code",
   "execution_count": null,
   "metadata": {},
   "outputs": [],
   "source": [
    "#https://medium.com/@shivangisareen/for-anyone-using-jupyter-notebook-installing-packages-18a9468d0c1c"
   ]
  },
  {
   "cell_type": "code",
   "execution_count": 1,
   "metadata": {},
   "outputs": [],
   "source": [
    "#import libraries\n",
    "from selenium import webdriver\n",
    "from selenium.webdriver.chrome.options import Options\n",
    "from selenium.webdriver.support.ui import Select\n",
    "from selenium.webdriver.common.by import By\n",
    "from selenium.webdriver.support.ui import WebDriverWait\n",
    "from selenium.webdriver.support import expected_conditions as EC\n",
    "import time\n",
    "\n",
    "# import libraries\n",
    "import subprocess\n",
    "import pandas as pd\n",
    "import pickle"
   ]
  },
  {
   "cell_type": "code",
   "execution_count": 2,
   "metadata": {},
   "outputs": [
    {
     "name": "stderr",
     "output_type": "stream",
     "text": [
      "/Users/marcotilli/opt/miniconda3/envs/betscrap/lib/python3.8/site-packages/fuzzywuzzy/fuzz.py:11: UserWarning: Using slow pure-python SequenceMatcher. Install python-Levenshtein to remove this warning\n",
      "  warnings.warn('Using slow pure-python SequenceMatcher. Install python-Levenshtein to remove this warning')\n"
     ]
    }
   ],
   "source": [
    "# evtl schlechte Lösung um FuzzyWuzzy und Sympy zu importiren\n",
    "# -> nicth sicher, ob ich mit sys.path mehr kaputt mache bzw Fuzzywuzzy nachher überhaupt anwendbar ist.\n",
    "\n",
    "import sys\n",
    "tmppath = sys.path.copy()\n",
    "sys.path = ['/Users/marcotilli/Desktop/Projects/Betscraping', '/Users/marcotilli/opt/miniconda3/envs/betscrap/lib/python38.zip', '/Users/marcotilli/opt/miniconda3/envs/betscrap/lib/python3.8', '/Users/marcotilli/opt/miniconda3/envs/betscrap/lib/python3.8/lib-dynload', '/Users/marcotilli/opt/miniconda3/envs/betscrap/lib/python3.8/site-packages']\n",
    "\n",
    "from fuzzywuzzy import process, fuzz\n",
    "from sympy import symbols, Eq, solve\n",
    "\n",
    "sys.path = tmppath"
   ]
  },
  {
   "cell_type": "code",
   "execution_count": 39,
   "metadata": {},
   "outputs": [],
   "source": [
    "import Scrappers\n",
    "from tipico import scrap_tipico"
   ]
  },
  {
   "cell_type": "code",
   "execution_count": 47,
   "metadata": {},
   "outputs": [
    {
     "ename": "TypeError",
     "evalue": "scrap_tipico() missing 1 required positional argument: 'sport'",
     "output_type": "error",
     "traceback": [
      "\u001b[0;31m---------------------------------------------------------------------------\u001b[0m",
      "\u001b[0;31mTypeError\u001b[0m                                 Traceback (most recent call last)",
      "\u001b[0;32m<ipython-input-47-347eb3407f3e>\u001b[0m in \u001b[0;36m<module>\u001b[0;34m\u001b[0m\n\u001b[0;32m----> 1\u001b[0;31m \u001b[0mdf_tipico\u001b[0m \u001b[0;34m=\u001b[0m \u001b[0mscrap_tipico\u001b[0m\u001b[0;34m(\u001b[0m\u001b[0;34m)\u001b[0m\u001b[0;34m\u001b[0m\u001b[0;34m\u001b[0m\u001b[0m\n\u001b[0m",
      "\u001b[0;31mTypeError\u001b[0m: scrap_tipico() missing 1 required positional argument: 'sport'"
     ]
    }
   ],
   "source": [
    "df_tipico = scrap_tipico()"
   ]
  },
  {
   "cell_type": "markdown",
   "metadata": {},
   "source": [
    "**Changing Chromedriver default options**\n",
    "\n",
    "To keep scraping while doing something else on the computer, we need to use the headless mode. To do so, we write the following code:"
   ]
  },
  {
   "cell_type": "code",
   "execution_count": 10,
   "metadata": {},
   "outputs": [],
   "source": [
    "#changing chromedriver default options\n",
    "options = Options()\n",
    "options.headless = False\n",
    "#options.add_argument('window-size=2400x1080') \n",
    "\n",
    "web = 'https://sports.tipico.de/en/live/' \n",
    "#execute chromedriver with edited options\n",
    "driver = webdriver.Chrome('./chromedriver', options=options)\n",
    "driver.get(web)\n",
    "driver.maximize_window()\n",
    "\n",
    "# accept Cookies\n",
    "accept = WebDriverWait(driver, 5).until(EC.element_to_be_clickable((By.XPATH, '//*[@id=\"_evidon-accept-button\"]')))\n",
    "accept.click()"
   ]
  },
  {
   "cell_type": "markdown",
   "metadata": {},
   "source": [
    "Breaking down the code:\n",
    "- *options = Options()* creates an instance of the Options class\n",
    "- *options.headless = True* turns on the headless mode\n",
    "- *options.add_argument(‘window-size=1920x1080’)* opens the windows in a customized size on the background\n",
    "- *webdriver.Chrome(path, options = options)* applies the changes we made in the chromedriver\n",
    "- *driver.get* opens the browser\n",
    "- *web* represents the betting site’s URL, while path represents the chromedriver’s path in your computer\n",
    "\n",
    "If you don’t want to work in headless mode, then write option.headless=False and use driver.maximize_window() instead of options.add_argument(‘window-size=1920x1080’) as shown in the full code.\n",
    "\n",
    "- *Select('...')* selects dropdown menus\n",
    "- *first_dropdown* one of the three dropdowns that contain betting markets\n",
    "- *first_dropdown.select_by_visible_text()* selects an element inside the dropdown menu with the help of the betting market’s name."
   ]
  },
  {
   "cell_type": "code",
   "execution_count": 11,
   "metadata": {},
   "outputs": [],
   "source": [
    "#Initialize your storage\n",
    "teams = []\n",
    "x12 = []\n",
    "over_under = []\n",
    "btts = []\n",
    "odds_events = []\n",
    "\n",
    "#select values from dropdown\n",
    "first_dropdown = Select(WebDriverWait(driver, 5).until(EC.presence_of_element_located((By.XPATH, '//*[@id=\"app\"]/main/main/section/div/div/div[4]/div[1]/div/div[1]/select[1]'))))\n",
    "second_dropdown = Select(WebDriverWait(driver, 5).until(EC.presence_of_element_located((By.XPATH, '//*[@id=\"app\"]/main/main/section/div/div/div[4]/div[1]/div/div[1]/select[2]'))))\n",
    "third_dropdown = Select(WebDriverWait(driver, 5).until(EC.presence_of_element_located((By.XPATH, '//*[@id=\"app\"]/main/main/section/div/div/div[4]/div[1]/div/div[1]/select[3]'))))\n",
    "first_dropdown.select_by_visible_text('3-Way')\n",
    "second_dropdown.select_by_visible_text('Over/Under')\n",
    "third_dropdown.select_by_visible_text('Both teams to score?')"
   ]
  },
  {
   "cell_type": "markdown",
   "metadata": {},
   "source": [
    "**Looking for ‘live events’ and ‘sports titles’**\n",
    "\n",
    "Before getting the data, we need first to look for live events. Also, to simplify the analysis, we’ll choose only ‘football’ in sports’ names. To do so, we write the following code:"
   ]
  },
  {
   "cell_type": "markdown",
   "metadata": {},
   "source": [
    "- *box* represents the box that contains sports events. The site also contains upcoming events, which we don’t need for this analysis.\n",
    "- *driver.find_element_by_xpath()* helps us find an element within the website through the ‘Xpath’ of that element.\n",
    "\n",
    "Unlike Xpaths from most elements we worked with before, the ‘live events’ element is trickier to get. For that reason, we need to be very specific. Then we use the contains option to match an element that contains Program_LIVE inside thetestid within a div tag. Check the picture below to find Program_LIVE"
   ]
  },
  {
   "cell_type": "code",
   "execution_count": 12,
   "metadata": {},
   "outputs": [],
   "source": [
    "#Looking for live events 'Program_LIVE'\n",
    "box = driver.find_element_by_xpath('//div[contains(@testid, \"Program_LIVE\")]')\n",
    "#Looking for 'sports titles'\n",
    "sport_title = box.find_elements_by_class_name('SportTitle-styles-sport')"
   ]
  },
  {
   "cell_type": "markdown",
   "metadata": {},
   "source": [
    "**1) Find ‘empty events’**\n",
    "\n",
    "Unlike pre-match games, odds in live games change quickly and could be suspended for a couple of seconds at any time. When betting odds are momentarily suspended, the odds are either locked or empty. Locked odds are easy to scrape, but empty odds are harder. That’s why we need to locate those empty odds\n",
    "\n",
    "- *parent* represents the ‘parent node’ of the *sport* element, while *grandparent* is its ‘grandparent node’ that represents the whole ‘football’ container inside live events"
   ]
  },
  {
   "cell_type": "markdown",
   "metadata": {},
   "source": [
    "**2) Remove empty_events from single_row_events**\n",
    "\n",
    "We find single row events and remove all empty events inside"
   ]
  },
  {
   "cell_type": "markdown",
   "metadata": {},
   "source": [
    "**3) Getting live odds**\n",
    "\n",
    "Each dropdown selected before will give odds for 3 markets that are extracted\n",
    "\n",
    "- *for match in single_row_events* loops through all the matches inside the ‘single_row_events’ list\n",
    "- *odd_events* represent each event with odds available\n",
    "- *match.find_elements_by_class_name(‘EventOddGroup-styles-odd-groups’)* helps us find all the ‘odds_event’ within every match. To find the class name *‘EventOddGroup-styles-odd-groups’* just right-click and inspect the code behind ‘odds box’ as we did before for empty odds\n",
    "- *for team in match.find_elements_by_class_name(‘EventTeams-styles-titles’)* loops through the elements with the class name 'EventTeams-styles-titles' within the ‘match’ node. Matches have 2 teams (home and away team); that’s why we need to loop through them and obtain their name with *team.text*. Then they’re stored with the append-method in the *teams* list\n",
    "- *for odd_event in odds_events* loops over the total number of live matches on the betting site.\n",
    "- *for n, box in enumerate(odds_events)* loops through all ‘odds boxes’ inside a match. In the beginning, we changed the dropdowns to ‘3-way,’ ‘Over/Under’ and ‘Both Teams to Score,’ so they’re the odds we’ll scrape\n",
    "- *rows = box.find_elements_by_xpath('.//*')* gives all the children nodes (odds) inside the box element.\n",
    "- *n==0* means ‘only take values from the first box.’ In this case, the first box is the ‘3-way’ box and is stored in the *x12* list\n",
    "- *rows[0]* tells Python ‘only pick the first row on each odds box.’ With this, we ignored the second row in double-row events."
   ]
  },
  {
   "cell_type": "code",
   "execution_count": 13,
   "metadata": {},
   "outputs": [],
   "source": [
    "for sport in sport_title:\n",
    "    # selecting only football\n",
    "    if sport.text == 'Football':\n",
    "        parent = sport.find_element_by_xpath('./..') #immediate parent node\n",
    "        grandparent = parent.find_element_by_xpath('./..') #grandparent node = the whole 'football' container\n",
    "        \n",
    "        #1 #empty groups\n",
    "        try:\n",
    "            empty_groups = grandparent.find_elements_by_class_name('EventOddGroup-styles-empty-group')\n",
    "            empty_events = [empty_group.find_element_by_xpath('./..') for empty_group in empty_groups]####\n",
    "        except:\n",
    "            pass\n",
    "        \n",
    "        #Single row event\n",
    "        single_row_events = grandparent.find_elements_by_class_name('EventRow-styles-event-row')\n",
    "        #2 #remove empty events from single_row_events\n",
    "        try:\n",
    "            #empty_events\n",
    "            single_row_events = [single_row_event for single_row_event in single_row_events if single_row_event not in empty_events]\n",
    "        except:\n",
    "            pass\n",
    "        \n",
    "        #3 #Getting Data\n",
    "        for match in single_row_events:\n",
    "            odds_event = match.find_elements_by_class_name('EventOddGroup-styles-odd-groups')\n",
    "            odds_events.append(odds_event)\n",
    "            # teams\n",
    "            for team in match.find_elements_by_class_name('EventTeams-styles-titles'):\n",
    "                teams.append(team.text)\n",
    "        for odds_event in odds_events:\n",
    "            for n, box in enumerate(odds_event):\n",
    "                rows = box.find_elements_by_xpath('.//*')\n",
    "                if n == 0:\n",
    "                    x12.append(rows[0].text)\n",
    "                # over/under + goal line\n",
    "                if n == 1:\n",
    "                    parent = box.find_element_by_xpath('./..')\n",
    "                    goals = parent.find_element_by_class_name('EventOddGroup-styles-fixed-param-text').text\n",
    "                    over_under.append(goals+'\\n'+rows[0].text)\n",
    "                # both teams to score\n",
    "                if n == 2:\n",
    "                    btts.append(rows[0].text)\n",
    "\n"
   ]
  },
  {
   "cell_type": "code",
   "execution_count": 14,
   "metadata": {},
   "outputs": [],
   "source": [
    "driver.quit()"
   ]
  },
  {
   "cell_type": "markdown",
   "metadata": {},
   "source": [
    "### Make it Readable\n",
    "\n",
    "Now we have to make the data readable and do some pre-cleaning with Pandas. Then we’ll save the data with Pickle.\n",
    "\n",
    "- *dict_gambling* is the dictionary that stores all the lists that contain the odds scraped\n",
    "- *pd.DataFrame.from_dict(dict_gambling)* turn the dictionary into a dataframe df_tipico,so we can read it and work with it easily\n",
    "- *df_tipico.applymap(lambda x: x.strip() if isinstance(x, str) else x)* cleans all the leading and trailing white spaces that the odds might have with thestrip method.\n",
    "- *open('...', 'wb')* opens a file named *df_tipico* in the mode *‘write bytes’* (wb). We save this in the variable *output*\n",
    "- *pickle.dump(df_tipico, output)* saves the dataframe created in the file named df_tipico. We used the same name for both the file and the dataframe, but they could be named differently\n",
    "- *output.close()* closes the file"
   ]
  },
  {
   "cell_type": "code",
   "execution_count": 15,
   "metadata": {},
   "outputs": [
    {
     "name": "stdout",
     "output_type": "stream",
     "text": [
      "                                            Teams         btts       Over/Under               3-way\n",
      "0                     UD Las Palmas Atl.\\nCadiz B   3.80\\n1.20  0.5\\n1.45\\n2.55    2.80\\n2.10\\n3.80\n",
      "1          UD San Sebastian\\nCD Atletico Baleares   2.10\\n1.65  1.5\\n1.40\\n2.70    1.35\\n4.10\\n9.00\n",
      "2                  Rayo Majadahonda\\nLas Rozas CF   3.80\\n1.20  0.5\\n1.40\\n2.70    2.10\\n2.30\\n5.50\n",
      "3                  UC Sampdoria\\nAtalanta Bergamo   2.00\\n1.70  2.5\\n2.20\\n1.60    4.50\\n3.30\\n1.80\n",
      "4                      Calcio Lecco\\nJuventus U23   1.70\\n2.00  3.5\\n1.70\\n2.00  1.06\\n10.00\\n20.00\n",
      "5                       Carpi FC 1909\\nFermana FC   2.80\\n1.35  1.5\\n2.00\\n1.70    2.40\\n2.60\\n3.40\n",
      "6                     Sassuolo U19\\nCFC Genoa U19   1.37\\n2.70  3.5\\n2.10\\n1.60    1.55\\n4.00\\n5.00\n",
      "7                Keciörengücü\\nYilport Samsunspor   2.40\\n1.50  1.5\\n1.75\\n1.95   1.35\\n4.00\\n13.00\n",
      "8                Sk Rapid Vienna II\\nFC Liefering   2.40\\n1.50  1.5\\n1.70\\n2.10   1.30\\n4.00\\n15.00\n",
      "9             Sparta Rotterdam\\nWillem II Tilburg   2.70\\n1.40  1.5\\n1.80\\n1.90    2.10\\n2.70\\n4.30\n",
      "10                     Almere City FC\\nSC Cambuur   1.50\\n2.40  2.5\\n1.65\\n2.10    7.00\\n4.00\\n1.40\n",
      "11                Estoril Praia\\nBenfica Lisbon B               3.5\\n1.90\\n1.80    2.30\\n2.50\\n4.00\n",
      "12                         Sacavenense\\nSintrense   1.80\\n1.85  2.5\\n2.10\\n1.60    1.37\\n4.00\\n8.00\n",
      "13              Real Sport Clube Queluz\\nPraiense   1.80\\n1.85  1.5\\n1.40\\n2.70    1.55\\n3.60\\n6.00\n",
      "14             Fabril Barreiro\\nSporting Lisbon B   2.50\\n1.45  2.5\\n2.30\\n1.55   13.00\\n6.50\\n1.15\n",
      "15                            Louletano\\nAmora FC   1.80\\n1.85  2.5\\n2.30\\n1.52    1.45\\n3.80\\n7.00\n",
      "16               Wisla Plock SA\\nWisla Krakow SSA   2.10\\n1.65  1.5\\n1.60\\n2.20    2.40\\n2.90\\n3.10\n",
      "17               Korona Kielce SA\\nChrobry Glogow   1.45\\n2.40  3.5\\n2.20\\n1.55    1.32\\n4.50\\n8.00\n",
      "18              FC Spartak Moscow\\nFC Rubin Kazan   3.60\\n1.22  1.5\\n2.50\\n1.45    3.80\\n2.20\\n2.60\n",
      "19       CS Pandurii T. Jiu\\nFC Petrolul Ploiesti   2.40\\n1.45  4.5\\n1.65\\n2.10  35.00\\n27.00\\n1.02\n",
      "20  Hap. I. B. Al Gharbiyye\\nHapoel B. Arrara Ara   2.10\\n1.60  2.5\\n2.10\\n1.65   1.22\\n5.50\\n11.00\n",
      "21                           FC Goa\\nHyderabad FC   2.30\\n1.50  1.5\\n1.65\\n2.10    2.60\\n2.70\\n2.90\n",
      "22                       Sudeva Delhi FC\\nTrau FC   1.30\\n3.10  4.5\\n1.42\\n2.60    5.50\\n2.20\\n2.20\n",
      "23                           Vasco SC\\nVelsao SCC               4.5\\n2.50\\n1.45       50.00\\n250.00\n",
      "24                     Chonburi FC\\nSuphanburi FC               5.5\\n4.30\\n1.16      250.00\\n250.00\n",
      "25                             Port FC\\nRayong FC   2.00\\n1.65  3.5\\n1.50\\n2.40  1.01\\n20.00\\n50.00\n",
      "26                   Sukhothai FC\\nBangkok United   1.50\\n2.30  3.5\\n2.10\\n1.60   15.00\\n6.50\\n1.16\n",
      "27                    Phrae United\\nRanong United   1.45\\n2.40  2.5\\n2.10\\n1.65    4.00\\n3.10\\n1.95\n",
      "28                Udon Thani FC\\nChiangmai United   2.10\\n1.65  2.5\\n1.90\\n1.80   11.00\\n5.50\\n1.22\n",
      "29                          Al Naft\\nZawra'a Club  10.00\\n1.01  0.5\\n2.00\\n1.70    4.30\\n1.60\\n4.30\n",
      "30                   Buildcon\\nYoung Green Eagles   2.50\\n1.45  1.5\\n1.40\\n2.70   1.20\\n5.50\\n13.00\n"
     ]
    }
   ],
   "source": [
    "#7 #unlimited columns\n",
    "pd.set_option('display.max_rows', 500)\n",
    "pd.set_option('display.max_columns', 500)\n",
    "pd.set_option('display.width', 1000)\n",
    "\n",
    "#Storing lists within dictionary\n",
    "dict_gambling = {'Teams': teams, 'btts': btts,\n",
    "                 'Over/Under': over_under, '3-way': x12}\n",
    "#Presenting data in dataframe\n",
    "df_tipico = pd.DataFrame.from_dict(dict_gambling)\n",
    "#clean leading and trailing whitespaces of all odds\n",
    "df_tipico = df_tipico.applymap(lambda x: x.strip() if isinstance(x, str) else x)\n",
    "\n",
    "#Save data with Pickle\n",
    "output = open('df_tipico', 'wb')\n",
    "pickle.dump(df_tipico, output)\n",
    "output.close()\n",
    "print(df_tipico)"
   ]
  },
  {
   "cell_type": "code",
   "execution_count": null,
   "metadata": {},
   "outputs": [],
   "source": []
  },
  {
   "cell_type": "code",
   "execution_count": null,
   "metadata": {},
   "outputs": [],
   "source": []
  }
 ],
 "metadata": {
  "kernelspec": {
   "display_name": "Python 3",
   "language": "python",
   "name": "python3"
  },
  "language_info": {
   "codemirror_mode": {
    "name": "ipython",
    "version": 3
   },
   "file_extension": ".py",
   "mimetype": "text/x-python",
   "name": "python",
   "nbconvert_exporter": "python",
   "pygments_lexer": "ipython3",
   "version": "3.7.4"
  }
 },
 "nbformat": 4,
 "nbformat_minor": 2
}
