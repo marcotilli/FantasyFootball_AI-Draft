{
 "cells": [
  {
   "cell_type": "markdown",
   "metadata": {},
   "source": [
    "#### First Try: Simple Webscrapping\n",
    "\n",
    "Medium-Link: https://medium.com/swlh/web-scraping-basics-scraping-a-betting-site-in-10-minutes-8e0529509848\n",
    "\n",
    "Bookie: tipico\n",
    "\n",
    "Link: sports.tipico.de"
   ]
  },
  {
   "cell_type": "code",
   "execution_count": 38,
   "metadata": {},
   "outputs": [],
   "source": [
    "from selenium import webdriver"
   ]
  },
  {
   "cell_type": "code",
   "execution_count": 39,
   "metadata": {},
   "outputs": [],
   "source": [
    "# Define website and path to Chromedriver\n",
    "web = 'https://sports.tipico.de/en/todays-matches' # tipico-Fußball, heutige Spiele\n",
    "#path = './chromedriver'"
   ]
  },
  {
   "cell_type": "code",
   "execution_count": 40,
   "metadata": {},
   "outputs": [],
   "source": [
    "# Start Driver\n",
    "driver = webdriver.Chrome('./chromedriver')\n",
    "driver.get(web)"
   ]
  },
  {
   "cell_type": "code",
   "execution_count": 41,
   "metadata": {},
   "outputs": [],
   "source": [
    "# Accept Cookies \n",
    "#(for tipico at least)\n",
    "accept = driver.find_element_by_xpath('//*[@id=\"_evidon-accept-button\"]')\n",
    "accept.click()"
   ]
  },
  {
   "cell_type": "code",
   "execution_count": 83,
   "metadata": {},
   "outputs": [],
   "source": [
    "teams = []\n",
    "x12 = [] # over under goal\n",
    "odds_events = []   "
   ]
  },
  {
   "cell_type": "code",
   "execution_count": 84,
   "metadata": {},
   "outputs": [],
   "source": [
    "# find class_name of title -> on website search manually\n",
    "#sport_title = driver.find_element_by_class_name(\"SportTitle-styles-sport\")\n",
    "sport = driver.find_element_by_class_name('SportTitle-styles-sport')"
   ]
  },
  {
   "cell_type": "code",
   "execution_count": 85,
   "metadata": {},
   "outputs": [],
   "source": [
    "# finde zB kein \"Basketball\"?\n",
    "# sport"
   ]
  },
  {
   "cell_type": "markdown",
   "metadata": {},
   "source": [
    "Breaking down the code:\n",
    "\n",
    "- *.text* gives us the text attribute of a variable. By comparing sport.text with the name of the sport (football), we make sure we’ll only get data from the football section.\n",
    "\n",
    "- *sport.find_element_by_xpath(‘./..’)* finds an element with Xpath within the football section. The ‘./’ locates where we’re right now, in this case, we’re in ‘sport’. If we write‘./..’ within parentheses, we obtain the ‘parent node’ of sports_title. We do this twice to get the ‘grandparent.’ We need this grandparent variable to limit the scrape only to the football section."
   ]
  },
  {
   "cell_type": "code",
   "execution_count": 86,
   "metadata": {},
   "outputs": [],
   "source": [
    "# for sport in sport_title:\n",
    "if sport.text == 'Football': # .text gives the text attribute of a variable \n",
    "    parent = sport.find_element_by_xpath('./..')\n",
    "    grandparent = parent.find_element_by_xpath('./..')"
   ]
  },
  {
   "cell_type": "code",
   "execution_count": 87,
   "metadata": {},
   "outputs": [],
   "source": [
    "# grandparent node = football section\n",
    "# find 'EventRow-styles-event-row' manually in Quellcode of website\n",
    "single_row_events = grandparent.find_elements_by_class_name('EventRow-styles-event-row')"
   ]
  },
  {
   "cell_type": "markdown",
   "metadata": {},
   "source": [
    "Breaking down the code:\n",
    "- *for match in single_row_events* loops through all the matches inside the ‘single_row_events’ list\n",
    "- *odd_events* represents each event with odds available\n",
    "- *match.find_elements_by_class_name(‘EventOddGroup-styles-odd-groups’)* finds all the ‘odds_event’ within every match. \n",
    "- *for team in match.find_elements_by_class_name(‘EventTeams-styles-titles’)* loops through the elements with class name ‘EventTeams-styles-titles' within the ‘match’ node. Matches have 2 teams (home and away team); we’ll be looping through them. \n",
    "Once the code is highlighted, look for the class name. Although the class name highlighted is **‘EventTeams-styles-event-teams EventTeams-styles-additional-margin’, you shouldn’t pick** this one because it’ll give you the names of two rows (team names + ‘half time’) in case you’re scraping live games. Instead, **pick** the class name below that says **‘EventTeams-styles-titles’**.\n",
    "- *team.text* gets the text attribute inside the team element\n",
    "- *teams.append(team.text)* stores the team names on theteamslist we created in the beginning"
   ]
  },
  {
   "cell_type": "code",
   "execution_count": 88,
   "metadata": {},
   "outputs": [],
   "source": [
    "for match in single_row_events:\n",
    "    odds_event = match.find_elements_by_class_name('EventOddGroup-styles-odd-groups')\n",
    "    odds_events.append(odds_event)\n",
    "    # teams\n",
    "    for team in match.find_elements_by_class_name('EventTeams-styles-titles'):\n",
    "        teams.append(team.text)"
   ]
  },
  {
   "cell_type": "code",
   "execution_count": 92,
   "metadata": {},
   "outputs": [],
   "source": [
    "for odds_event in odds_events:\n",
    "    #for n, box in enumerate(odds_event):\n",
    "    #    rows, box = box.find_elemens_by_xpath('.//*')\n",
    "    #    if n == 0:\n",
    "    #        x12.append(box.text)        \n",
    "    for box in odds_event:\n",
    "        x12.append(box.text)\n",
    "driver.quit()"
   ]
  },
  {
   "cell_type": "code",
   "execution_count": 95,
   "metadata": {},
   "outputs": [
    {
     "data": {
      "text/plain": [
       "['1.90\\n3.40\\n4.10',\n",
       " '2.40\\n2.90\\n3.10',\n",
       " '3.70\\n3.00\\n1.95',\n",
       " '1.50\\n3.90\\n5.30',\n",
       " '1.35\\n4.50\\n6.70',\n",
       " '1.80\\n3.40\\n3.80',\n",
       " '2.75\\n2.75\\n2.70',\n",
       " '3.40\\n3.00\\n2.05',\n",
       " '2.15\\n2.90\\n3.40',\n",
       " '2.45\\n2.85\\n2.90',\n",
       " '2.90\\n3.10\\n2.30',\n",
       " '1.57\\n3.40\\n5.50',\n",
       " '2.35\\n2.85\\n3.00',\n",
       " '1.67\\n3.20\\n5.20',\n",
       " '2.70\\n3.00\\n2.50',\n",
       " '4.80\\n3.70\\n1.60']"
      ]
     },
     "execution_count": 95,
     "metadata": {},
     "output_type": "execute_result"
    }
   ],
   "source": [
    "x12"
   ]
  }
 ],
 "metadata": {
  "kernelspec": {
   "display_name": "Python 3",
   "language": "python",
   "name": "python3"
  },
  "language_info": {
   "codemirror_mode": {
    "name": "ipython",
    "version": 3
   },
   "file_extension": ".py",
   "mimetype": "text/x-python",
   "name": "python",
   "nbconvert_exporter": "python",
   "pygments_lexer": "ipython3",
   "version": "3.7.4"
  }
 },
 "nbformat": 4,
 "nbformat_minor": 4
}
