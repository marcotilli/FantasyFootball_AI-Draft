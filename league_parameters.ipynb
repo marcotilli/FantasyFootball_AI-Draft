{
 "cells": [
  {
   "cell_type": "code",
   "execution_count": 1,
   "id": "6838fde0",
   "metadata": {},
   "outputs": [],
   "source": [
    "########\n",
    "#\n",
    "# PARAMETERS\n",
    "#\n",
    "########"
   ]
  },
  {
   "cell_type": "code",
   "execution_count": 1,
   "id": "5cfe9dca",
   "metadata": {},
   "outputs": [],
   "source": [
    "import os"
   ]
  },
  {
   "cell_type": "code",
   "execution_count": null,
   "id": "f3e373e3",
   "metadata": {},
   "outputs": [],
   "source": [
    "https://stackoverflow.com/questions/44116194/import-a-function-from-another-ipynb-file"
   ]
  },
  {
   "cell_type": "code",
   "execution_count": 4,
   "id": "9ad9c160",
   "metadata": {},
   "outputs": [
    {
     "name": "stdout",
     "output_type": "stream",
     "text": [
      "seasons:   ['2020', '2019', '2018', '2017', '2016', '2015'] \n",
      "positions: ['BaseTeamMean.json', 'BaseTeamStd.json', 'Defenses', 'Defenses.csv', 'Kickers', 'Kickers.csv', 'Quarterbacks', 'Quarterbacks.csv', 'RunningBacks', 'RunningBacks.csv', 'TightEnds', 'TightEnds.csv', 'WideReceivers', 'WideReceivers.csv'] \n",
      "pos_dict: {'Defenses': 'DSt', 'Kickers': 'K', 'Quarterbacks': 'QB', 'RunningBacks': 'RB', 'TightEnds': 'TE', 'WideReceivers': 'WR'}\n"
     ]
    }
   ],
   "source": [
    "seasons = [item for item in reversed(os.listdir('data'))]\n",
    "positions = [item for item in os.listdir('data/2020')]\n",
    "pos_dict = {'Defenses': 'DSt', 'Kickers': 'K', 'Quarterbacks': 'QB', 'RunningBacks': 'RB', 'TightEnds': 'TE', 'WideReceivers': 'WR'}\n",
    "print('seasons:  ', seasons, '\\npositions:', positions, '\\npos_dict:', pos_dict)"
   ]
  },
  {
   "cell_type": "code",
   "execution_count": 5,
   "id": "7d9a52c0",
   "metadata": {},
   "outputs": [],
   "source": [
    "# Team Number of Teams\n",
    "n_teams = 12\n",
    "# ScoringSystem\n",
    "scor_sys = {\n",
    "    'PassYds': 1/25, 'PassTD': 6, 'Ints': -4, 'Sck': -0.5, 'Bon_PYds3xx': 1, 'Bon_PYds400+': 2, 'Bon_50yTD': 1,\n",
    "    'RushYds': 0.1, 'RushTD': 6, 'Bo-2n_RshTD40+': 1, 'Bon_RshYds200+': 2,\n",
    "    'Rec': 1, 'RecYds': 0.1, 'RecTD': 6, 'Bon_RecTD40+': 1, 'Bon_RecYds200+': 2, \n",
    "    'Fumble': -3,\n",
    "    'PAT': 1, 'PATmiss': -1, 'FG': 3, 'FG50+': 5, 'FGmiss20-': -2,\n",
    "    'DefSck': 1, 'DefInt': 2, 'DefFumRec': 2, 'DefSaf': 2, 'DefTD': 6, 'DefBlockedKicks': 1,\n",
    "    'PtsAll0': 10, 'PtsAll1-6': 7, 'PtsAll7-13': 4, 'PtsAll14-20': 1, 'PtsAll28-34': -1, 'PtsAll35+': -4,\n",
    "    'YdsAll100-': 2, 'YdsAll100-200': 1, 'YdsAll450-499': -2,'YdsAll500+': -4 }"
   ]
  },
  {
   "cell_type": "code",
   "execution_count": null,
   "id": "ab5db137",
   "metadata": {},
   "outputs": [],
   "source": [
    "# Studs League\n",
    "#scor_sys = {\n",
    "#    'PassYds': 1/25, 'PassTD': 4, 'Ints': -2, 'Sck': 0, 'Bon_PYds3xx': 0, 'Bon_PYds400+': 0, 'Bon_50yTD': 0,\n",
    "#    'RushYds': 0.1, 'RushTD': 6, 'Bon_RshTD40+': 0, 'Bon_RshYds200+': 0,\n",
    "#    'Rec':0.5, 'RecYds': 0.1, 'RecTD': 6, 'Bon_RecTD40+': 0, 'Bon_RecYds200+': 0, \n",
    "#    'Fumble': -2,\n",
    "#    'PAT': 1, 'PATmiss': 0, 'FG': 3, 'FG50+': 5, 'FGmiss20-': 0,\n",
    "#    'DefSck': 1, 'DefInt': 2, 'DefFumRec': 2, 'DefSaf': 2, 'DefTD': 6, 'DefBlockedKicks': 0,\n",
    "#    'PtsAll0': 10, 'PtsAll1-6': 7, 'PtsAll7-13': 4, 'PtsAll14-20': 1, 'PtsAll28-34': -1, 'PtsAll35+': -4,\n",
    "#    'YdsAll100-': 2, 'YdsAll100-200': 1, 'YdsAll450-499': -2,'YdsAll500+': -4 }"
   ]
  }
 ],
 "metadata": {
  "kernelspec": {
   "display_name": "Python 3",
   "language": "python",
   "name": "python3"
  },
  "language_info": {
   "codemirror_mode": {
    "name": "ipython",
    "version": 3
   },
   "file_extension": ".py",
   "mimetype": "text/x-python",
   "name": "python",
   "nbconvert_exporter": "python",
   "pygments_lexer": "ipython3",
   "version": "3.8.8"
  }
 },
 "nbformat": 4,
 "nbformat_minor": 5
}
